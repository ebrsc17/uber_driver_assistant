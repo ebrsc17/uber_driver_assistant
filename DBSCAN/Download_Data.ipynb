{
 "cells": [
  {
   "cell_type": "code",
   "execution_count": null,
   "metadata": {},
   "outputs": [],
   "source": [
    "!pip install sodapy\n",
    "\n",
    "import os\n",
    "import pandas as pd\n",
    "import numpy as np\n",
    "\n",
    "from sodapy import Socrata\n",
    "\n",
    "#!/usr/bin/env python\n",
    "\n",
    "# make sure to install these packages before running:\n",
    "# pip install pandas\n",
    "# pip install sodapy\n",
    "\n",
    "import pandas as pd\n",
    "from sodapy import Socrata\n",
    "\n",
    "# Unauthenticated client only works with public data sets. Note 'None'\n",
    "# in place of application token, and no username or password:\n",
    "client = Socrata(\"data.cityofchicago.org\", None)\n",
    "client.timeout = 10000\n",
    "results = client.get(\"m6dm-c72p\", limit=3000)\n",
    "print(\"Domain: {domain:}\\nSession: {session:}\\nURI Prefix: {uri_prefix:}\".format(**client.__dict__))\n",
    "\n",
    "\n",
    "\n",
    "# Convert to pandas DataFrame\n",
    "results_df = pd.DataFrame.from_records(results)\n",
    "# results_df['amount'] = results_df['amount'].astype(float)\n",
    "\n",
    "print(results_df)\n",
    "df.to_csv('sample_data/uber_data.csv') \n",
    "\n",
    "\n",
    "results_df\n",
    "list(df.columns.values)\n",
    "\n",
    "df = results_df[['trip_total','pickup_centroid_longitude', 'pickup_centroid_latitude','dropoff_centroid_longitude', 'dropoff_centroid_latitude']]\n",
    "df\n",
    "\n",
    "# normalize the data \n",
    "df['pickup_centroid_longitude'] = (df['pickup_centroid_longitude'] - df['pickup_centroid_longitude'].min()) / (df['pickup_centroid_longitude'].max() - df['pickup_centroid_longitude'].min())\n",
    "df['y'] = (df['y'] - df['y'].min()) / (df['y'].max() - df['y'].min())\n",
    "# transform to numpy array\n",
    "data = df.loc[:, ['time','x','y']].values"
   ]
  }
 ],
 "metadata": {
  "kernelspec": {
   "display_name": "Python 3",
   "language": "python",
   "name": "python3"
  },
  "language_info": {
   "codemirror_mode": {
    "name": "ipython",
    "version": 3
   },
   "file_extension": ".py",
   "mimetype": "text/x-python",
   "name": "python",
   "nbconvert_exporter": "python",
   "pygments_lexer": "ipython3",
   "version": "3.7.7"
  }
 },
 "nbformat": 4,
 "nbformat_minor": 4
}
